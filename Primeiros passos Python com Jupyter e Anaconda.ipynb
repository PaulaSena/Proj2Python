{
 "cells": [
  {
   "cell_type": "code",
   "execution_count": 1,
   "id": "13b71506",
   "metadata": {},
   "outputs": [
    {
     "name": "stdout",
     "output_type": "stream",
     "text": [
      "Ana Paula Sena \n",
      "Realizando testes com notebook Jupyter\n"
     ]
    }
   ],
   "source": [
    "print(\"Ana Paula Sena \")\n",
    "print(\"Realizando testes com notebook Jupyter\")"
   ]
  },
  {
   "cell_type": "markdown",
   "id": "b2d900f0",
   "metadata": {},
   "source": [
    "Primeiros passos de Automação"
   ]
  },
  {
   "cell_type": "code",
   "execution_count": null,
   "id": "1d9f10cf",
   "metadata": {},
   "outputs": [],
   "source": []
  }
 ],
 "metadata": {
  "kernelspec": {
   "display_name": "Python 3",
   "language": "python",
   "name": "python3"
  },
  "language_info": {
   "codemirror_mode": {
    "name": "ipython",
    "version": 3
   },
   "file_extension": ".py",
   "mimetype": "text/x-python",
   "name": "python",
   "nbconvert_exporter": "python",
   "pygments_lexer": "ipython3",
   "version": "3.8.8"
  }
 },
 "nbformat": 4,
 "nbformat_minor": 5
}
