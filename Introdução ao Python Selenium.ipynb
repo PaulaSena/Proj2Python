{
 "cells": [
  {
   "cell_type": "markdown",
   "id": "716d5c37",
   "metadata": {},
   "source": [
    "Introdução ao Python Selenium Automação Web \n",
    "Python + Selenium\n",
    "-Selenium \n",
    "-WebDriver "
   ]
  },
  {
   "cell_type": "code",
   "execution_count": null,
   "id": "e0073a37",
   "metadata": {},
   "outputs": [],
   "source": [
    "# Passo 1 : Acessar https://ri.magazineluiza.com.br/\n",
    "# Passo 2 : Clicar em Planilha Dinamica\n",
    "# passo 3 : Clicar para fazer o Download\n"
   ]
  },
  {
   "cell_type": "code",
   "execution_count": 6,
   "id": "cb9db162",
   "metadata": {},
   "outputs": [],
   "source": [
    "from selenium import webdriver\n",
    "\n",
    "navegador = webdriver.Chrome()\n",
    "\n",
    "navegador.get(\"https://ri.magazineluiza.com.br/\")\n",
    "navegador.find_element_by_xpath('//*[@id=\"owl-destaques\"]/div[1]/div/div[4]/div/a/p').click()\n",
    "navegador.find_element_by_xpath('//*[@id=\"bWtQ7n6RcQdDDDCgCcH3yg==\"]').click()\n"
   ]
  },
  {
   "cell_type": "code",
   "execution_count": null,
   "id": "b54d2bc3",
   "metadata": {},
   "outputs": [],
   "source": []
  },
  {
   "cell_type": "code",
   "execution_count": null,
   "id": "0a2a7a0d",
   "metadata": {},
   "outputs": [],
   "source": []
  }
 ],
 "metadata": {
  "kernelspec": {
   "display_name": "Python 3",
   "language": "python",
   "name": "python3"
  },
  "language_info": {
   "codemirror_mode": {
    "name": "ipython",
    "version": 3
   },
   "file_extension": ".py",
   "mimetype": "text/x-python",
   "name": "python",
   "nbconvert_exporter": "python",
   "pygments_lexer": "ipython3",
   "version": "3.8.8"
  }
 },
 "nbformat": 4,
 "nbformat_minor": 5
}
